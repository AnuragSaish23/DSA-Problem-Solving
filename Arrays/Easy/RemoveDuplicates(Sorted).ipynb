{
 "cells": [
  {
   "cell_type": "markdown",
   "id": "81e06610",
   "metadata": {},
   "source": [
    "### Remove Duplicates from Sorted Array\n",
    "\n",
    "**Problem:**\n",
    "\n",
    "Given a sorted array, remove duplicates in-place such that each unique element appears only once, and return the new length of the array.\n",
    "\n",
    "Example:\n",
    "\n",
    "- Input: [1, 1, 2, 2, 3, 3, 3, 4]\n",
    "- Output (array modified in-place): [1, 2, 3, 4, _, _, _, _] (underscores = ignored values)\n",
    "\n",
    "Return value: 4 (new length of unique elements)"
   ]
  },
  {
   "cell_type": "code",
   "execution_count": 1,
   "id": "3468b1a4",
   "metadata": {},
   "outputs": [
    {
     "data": {
      "text/plain": [
       "4"
      ]
     },
     "execution_count": 1,
     "metadata": {},
     "output_type": "execute_result"
    }
   ],
   "source": [
    "def unique_elem(arr):\n",
    "    unique = []\n",
    "    for num in arr:\n",
    "        if num not in unique:\n",
    "            unique.append(num)\n",
    "    \n",
    "    return len(unique)\n",
    "\n",
    "unique_elem([1,1,2,2,3,3,3,4])"
   ]
  },
  {
   "cell_type": "code",
   "execution_count": 2,
   "id": "b82ce512",
   "metadata": {},
   "outputs": [
    {
     "data": {
      "text/plain": [
       "4"
      ]
     },
     "execution_count": 2,
     "metadata": {},
     "output_type": "execute_result"
    }
   ],
   "source": [
    "def unique_elemOptimal(arr):\n",
    "    return len(set(arr))\n",
    "\n",
    "unique_elemOptimal([1,1,2,2,2,3,3,3,3,4])"
   ]
  },
  {
   "cell_type": "code",
   "execution_count": null,
   "id": "6e9030bd",
   "metadata": {},
   "outputs": [],
   "source": []
  }
 ],
 "metadata": {
  "kernelspec": {
   "display_name": "Python 3",
   "language": "python",
   "name": "python3"
  },
  "language_info": {
   "codemirror_mode": {
    "name": "ipython",
    "version": 3
   },
   "file_extension": ".py",
   "mimetype": "text/x-python",
   "name": "python",
   "nbconvert_exporter": "python",
   "pygments_lexer": "ipython3",
   "version": "3.12.0"
  }
 },
 "nbformat": 4,
 "nbformat_minor": 5
}
