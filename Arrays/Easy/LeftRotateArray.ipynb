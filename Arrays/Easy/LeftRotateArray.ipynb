{
 "cells": [
  {
   "cell_type": "markdown",
   "id": "c797e5e5",
   "metadata": {},
   "source": [
    "### Left Rotate an Array by One place\n",
    "\n",
    "**Problem: Given an array, rotate it to the left by one place.**\n",
    "\n",
    "Example:\n",
    "\n",
    "Input: [1, 2, 3, 4, 5]\n",
    "\n",
    "Output: [2, 3, 4, 5, 1]"
   ]
  },
  {
   "cell_type": "markdown",
   "id": "a245b629",
   "metadata": {},
   "source": [
    "#### In-Place Sorting Approach:\n",
    "\n",
    "**Method:**\n",
    "\n",
    "- Use loops to shift elements one by one to the left.\n",
    "- Move the First element to the last."
   ]
  },
  {
   "cell_type": "code",
   "execution_count": 2,
   "id": "eae3a135",
   "metadata": {},
   "outputs": [
    {
     "name": "stdout",
     "output_type": "stream",
     "text": [
      "Output : [2, 3, 4, 5, 1]\n"
     ]
    }
   ],
   "source": [
    "def leftrotatebrute(arr):\n",
    "    n = len(arr)\n",
    "    first = arr[0]\n",
    "    for i in range(1,n):\n",
    "        arr[i-1] = arr[i]\n",
    "    arr[-1] = first\n",
    "    return arr\n",
    "print(f'Output : {leftrotatebrute([1,2,3,4,5])}')"
   ]
  },
  {
   "cell_type": "markdown",
   "id": "5326a120",
   "metadata": {},
   "source": [
    "- Time Complexity : O(n) -> For shifting the Elements.\n",
    "- Space Complexity : O(1)"
   ]
  },
  {
   "cell_type": "code",
   "execution_count": 3,
   "id": "34d9aed3",
   "metadata": {},
   "outputs": [
    {
     "name": "stdout",
     "output_type": "stream",
     "text": [
      "Ouput : [2, 3, 4, 5, 1]\n"
     ]
    }
   ],
   "source": [
    "def leftrotatenewarr(arr):\n",
    "    newarr = arr[1:] + [arr[0]]\n",
    "    return newarr\n",
    "\n",
    "print(f'Ouput : {leftrotatenewarr([1,2,3,4,5])}')"
   ]
  },
  {
   "cell_type": "markdown",
   "id": "67c6dd86",
   "metadata": {},
   "source": [
    "- Time Complexity : O(n) \n",
    "- Space Complexity : O(n) -> Extra Space (New Array)"
   ]
  },
  {
   "cell_type": "markdown",
   "id": "565ec20d",
   "metadata": {},
   "source": []
  }
 ],
 "metadata": {
  "kernelspec": {
   "display_name": "Python 3",
   "language": "python",
   "name": "python3"
  },
  "language_info": {
   "codemirror_mode": {
    "name": "ipython",
    "version": 3
   },
   "file_extension": ".py",
   "mimetype": "text/x-python",
   "name": "python",
   "nbconvert_exporter": "python",
   "pygments_lexer": "ipython3",
   "version": "3.12.0"
  }
 },
 "nbformat": 4,
 "nbformat_minor": 5
}
