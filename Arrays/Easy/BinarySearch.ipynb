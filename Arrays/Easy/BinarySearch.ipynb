{
 "cells": [
  {
   "cell_type": "markdown",
   "id": "c4f87ee3",
   "metadata": {},
   "source": [
    "### Binary Search : \n",
    "\n",
    "**Description:**\n",
    "\n",
    "Binary search is an efficient algorithm used to find the position of a target value within a sorted array or list. It works on the principle of repeatedly dividing the search space in half, which significantly reduces the number of comparisons needed compared to a linear search.\n",
    "\n",
    "- Here's how binary search works:\n",
    "  - Start with a sorted array and a target value.\n",
    "  \n",
    "  - Find the middle element: The algorithm identifies the element in the middle of the current search interval.\n",
    "\n",
    "  - Compare the middle element with the target:\n",
    "    - If the middle element is equal to the target, the search is successful, and its position is returned.\n",
    "\n",
    "    - If the middle element is greater than the target, the algorithm discards the right half of the current search interval (including    the middle element) and continues searching in the left half. \n",
    "\n",
    "    - If the middle element is less than the target, the algorithm discards the left half of the current search interval (including the middle element) and continues searching in the right half. \n",
    "\n",
    "Repeat: Steps 2 and 3 are repeated until the target element is found or the search interval becomes empty (meaning the target is not present in the array)."
   ]
  },
  {
   "cell_type": "code",
   "execution_count": null,
   "id": "230534d4",
   "metadata": {},
   "outputs": [
    {
     "data": {
      "text/plain": [
       "5"
      ]
     },
     "execution_count": 1,
     "metadata": {},
     "output_type": "execute_result"
    }
   ],
   "source": [
    "def binarySearch(nums, target):\n",
    "    low, high = 0, len(nums) - 1\n",
    "\n",
    "    while low <= high:\n",
    "        mid = (low + high)//2\n",
    "\n",
    "        if nums[mid] == target:\n",
    "            return mid\n",
    "        elif nums[mid] < target:\n",
    "            low = mid + 1\n",
    "        else:\n",
    "            high = low - 1\n",
    "\n",
    "    return -1\n",
    "\n",
    "binarySearch([1,2,3,4,5,12,11,43],12)"
   ]
  },
  {
   "cell_type": "code",
   "execution_count": null,
   "id": "866999dc",
   "metadata": {},
   "outputs": [],
   "source": []
  }
 ],
 "metadata": {
  "kernelspec": {
   "display_name": "Python 3",
   "language": "python",
   "name": "python3"
  },
  "language_info": {
   "codemirror_mode": {
    "name": "ipython",
    "version": 3
   },
   "file_extension": ".py",
   "mimetype": "text/x-python",
   "name": "python",
   "nbconvert_exporter": "python",
   "pygments_lexer": "ipython3",
   "version": "3.12.0"
  }
 },
 "nbformat": 4,
 "nbformat_minor": 5
}
