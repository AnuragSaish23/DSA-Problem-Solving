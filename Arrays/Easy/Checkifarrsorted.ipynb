{
 "cells": [
  {
   "cell_type": "markdown",
   "id": "bd6ec450",
   "metadata": {},
   "source": [
    "### To Check If array is Sorted\n",
    "\n",
    "**Problem: Check whether a given array is sorted in non-decreasing order (ascending).**\n",
    "\n",
    "Input:\n",
    "An array of integers, e.g., [1, 3, 5, 7]\n",
    "\n",
    "Output:\n",
    "True if the array is sorted in ascending order, False otherwise"
   ]
  },
  {
   "cell_type": "markdown",
   "id": "cb3bf36e",
   "metadata": {},
   "source": [
    "#### Brute Approach:\n",
    "\n",
    "**Method:**\n",
    "\n",
    "- Compare every element with every other element that comes after it."
   ]
  },
  {
   "cell_type": "code",
   "execution_count": 1,
   "id": "87c85667",
   "metadata": {},
   "outputs": [
    {
     "name": "stdout",
     "output_type": "stream",
     "text": [
      "Output : True\n"
     ]
    }
   ],
   "source": [
    "def arrsortbrute(arr):\n",
    "    n = len(arr)\n",
    "    for i in range(n):\n",
    "        for j in range(i+1,n):\n",
    "            if arr[i] > arr[j]:\n",
    "                return False\n",
    "    return True\n",
    "\n",
    "print(f'Output : {arrsortbrute([1,3,5,7,9])}')"
   ]
  },
  {
   "cell_type": "markdown",
   "id": "c14d817f",
   "metadata": {},
   "source": [
    "- Time Complexity : O(n^2)\n",
    "- Space Complexity : O(1)"
   ]
  },
  {
   "cell_type": "markdown",
   "id": "781c88d9",
   "metadata": {},
   "source": [
    "#### Better Approach :\n",
    "\n",
    "**Method:**\n",
    "\n",
    "- Check if the original array is equal to the Sorted array.\n"
   ]
  },
  {
   "cell_type": "code",
   "execution_count": 2,
   "id": "30375d53",
   "metadata": {},
   "outputs": [
    {
     "name": "stdout",
     "output_type": "stream",
     "text": [
      "Output : False\n"
     ]
    }
   ],
   "source": [
    "def arrsortbetter(arr):\n",
    "    return arr == sorted(arr)\n",
    "\n",
    "print(f'Output : {arrsortbetter([1,2,5,4,6,7])}')"
   ]
  },
  {
   "cell_type": "markdown",
   "id": "7b1c942a",
   "metadata": {},
   "source": [
    "- Time Complexity : O(n log n) -> Sorting the array\n",
    "- Space Complexity : O(n) -> For storing the sorted copy "
   ]
  },
  {
   "cell_type": "markdown",
   "id": "59db8495",
   "metadata": {},
   "source": [
    "#### Optimal Approach:\n",
    "\n",
    "**Method:**\n",
    "\n",
    "- Traverse the array once, checking if each element is less than or equal to the next element.\n",
    "- If any element violates the ascending order, return False.\n"
   ]
  },
  {
   "cell_type": "code",
   "execution_count": 3,
   "id": "9ded1c46",
   "metadata": {},
   "outputs": [
    {
     "name": "stdout",
     "output_type": "stream",
     "text": [
      "Output : False\n"
     ]
    }
   ],
   "source": [
    "def arrsortoptimal(arr):\n",
    "    n = len(arr)\n",
    "    for i in range(n-1):\n",
    "        if arr[i] > arr[i+1]:\n",
    "            return False\n",
    "    return True\n",
    "\n",
    "print(f'Output : {arrsortoptimal([1,3,2,4,5])}')"
   ]
  },
  {
   "cell_type": "markdown",
   "id": "6331aa6d",
   "metadata": {},
   "source": [
    "- Time Complexity : O(n) -> for traversing the Array\n",
    "- SpaceComplexity : O(1)"
   ]
  },
  {
   "cell_type": "markdown",
   "id": "66c765bf",
   "metadata": {},
   "source": []
  }
 ],
 "metadata": {
  "kernelspec": {
   "display_name": "Python 3",
   "language": "python",
   "name": "python3"
  },
  "language_info": {
   "codemirror_mode": {
    "name": "ipython",
    "version": 3
   },
   "file_extension": ".py",
   "mimetype": "text/x-python",
   "name": "python",
   "nbconvert_exporter": "python",
   "pygments_lexer": "ipython3",
   "version": "3.12.0"
  }
 },
 "nbformat": 4,
 "nbformat_minor": 5
}
