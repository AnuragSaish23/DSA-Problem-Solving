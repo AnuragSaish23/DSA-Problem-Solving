{
 "cells": [
  {
   "cell_type": "markdown",
   "id": "a9f43622",
   "metadata": {},
   "source": [
    "### Search Insert Position : \n",
    "\n",
    "**Problem Description:**\n",
    "\n",
    "Given a sorted array of distinct integers and a target value, return the index if the target is found. If not, return the index where it would be if it were inserted in order\n",
    "\n",
    "**Approach:**\n",
    "\n",
    "Use Binary Search to find:\n",
    "\n",
    "- If target exists → return its index.\n",
    "- If not found → return low (this is where it should be inserted).\n",
    "\n",
    "This works because when the loop ends:\n",
    "\n",
    "- low will be the first index where nums[low] ≥ target (or end of array)."
   ]
  },
  {
   "cell_type": "code",
   "execution_count": 1,
   "id": "7ec4d297",
   "metadata": {},
   "outputs": [
    {
     "data": {
      "text/plain": [
       "2"
      ]
     },
     "execution_count": 1,
     "metadata": {},
     "output_type": "execute_result"
    }
   ],
   "source": [
    "def searchinsertpos(nums,target):\n",
    "    low, high = 0 , len(nums) - 1\n",
    "\n",
    "    while low <= high:\n",
    "        mid = (low+high)//2\n",
    "\n",
    "        if nums[mid] == target:\n",
    "            return mid\n",
    "        elif nums[mid] < target:\n",
    "            low = mid + 1\n",
    "        else:\n",
    "            high = mid - 1\n",
    "\n",
    "    return low\n",
    "\n",
    "searchinsertpos([1,3,5,6],5) "
   ]
  },
  {
   "cell_type": "code",
   "execution_count": null,
   "id": "5c38943f",
   "metadata": {},
   "outputs": [],
   "source": []
  }
 ],
 "metadata": {
  "kernelspec": {
   "display_name": "Python 3",
   "language": "python",
   "name": "python3"
  },
  "language_info": {
   "codemirror_mode": {
    "name": "ipython",
    "version": 3
   },
   "file_extension": ".py",
   "mimetype": "text/x-python",
   "name": "python",
   "nbconvert_exporter": "python",
   "pygments_lexer": "ipython3",
   "version": "3.12.0"
  }
 },
 "nbformat": 4,
 "nbformat_minor": 5
}
