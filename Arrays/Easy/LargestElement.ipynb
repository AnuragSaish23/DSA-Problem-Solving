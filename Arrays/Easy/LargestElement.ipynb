{
 "cells": [
  {
   "cell_type": "markdown",
   "id": "18faf524",
   "metadata": {},
   "source": [
    "### Largest element in an Array : "
   ]
  },
  {
   "cell_type": "markdown",
   "id": "f0fd2451",
   "metadata": {},
   "source": [
    "**Problem Description:**\n",
    "\n",
    "Find the largest element in the array.\n",
    "\n",
    "**Input**\n",
    "an array of integers : eg -> [2,4,1,6,7]\n",
    "\n",
    "**Output**\n",
    "7, Since 7 is the largest element in the above array."
   ]
  },
  {
   "cell_type": "markdown",
   "id": "857d5db5",
   "metadata": {},
   "source": [
    "#### Brute Force Solution:\n",
    "**Method:**\n",
    "- Compare every element with every other element.\n",
    "- Count how many elements are smaller than the current element; if all are smaller, it’s the largest."
   ]
  },
  {
   "cell_type": "code",
   "execution_count": 6,
   "id": "f291ecb5",
   "metadata": {},
   "outputs": [
    {
     "name": "stdout",
     "output_type": "stream",
     "text": [
      "6\n"
     ]
    }
   ],
   "source": [
    "def largestelebrute(arr):\n",
    "    n = len(arr)\n",
    "    for i in range(n):\n",
    "        is_largest = True\n",
    "        for j in range(n):\n",
    "            if arr[j] > arr[i]:\n",
    "                is_largest = False\n",
    "                break\n",
    "        if is_largest:\n",
    "            return arr[i]\n",
    "\n",
    "print(largestelebrute([1,3,2,5,6]))"
   ]
  },
  {
   "cell_type": "markdown",
   "id": "b99edb82",
   "metadata": {},
   "source": [
    "- Time Complexity : O(n^2)\n",
    "- Space Complexity : O(1)"
   ]
  },
  {
   "cell_type": "markdown",
   "id": "1d87d343",
   "metadata": {},
   "source": [
    "#### Better Solution \n",
    "\n",
    "**Method:**\n",
    "\n",
    "Keep track of the largest element seen so far while iterating through the array once."
   ]
  },
  {
   "cell_type": "code",
   "execution_count": 7,
   "id": "3594e8d8",
   "metadata": {},
   "outputs": [
    {
     "data": {
      "text/plain": [
       "9"
      ]
     },
     "execution_count": 7,
     "metadata": {},
     "output_type": "execute_result"
    }
   ],
   "source": [
    "def largestelebetter(arr):\n",
    "    n = len(arr)\n",
    "    maxnum = arr[0]\n",
    "\n",
    "    for num in arr:\n",
    "        if num > maxnum:\n",
    "            maxnum = num\n",
    "    return maxnum\n",
    "\n",
    "largestelebetter([1,3,2,4,7,6,9,6])"
   ]
  },
  {
   "cell_type": "markdown",
   "id": "2b8db009",
   "metadata": {},
   "source": [
    "- Time Complexity : O(n)\n",
    "- Space Complexity : O(1)"
   ]
  },
  {
   "cell_type": "markdown",
   "id": "e0056782",
   "metadata": {},
   "source": [
    "#### Better is the most Optimal Solution for this Problem."
   ]
  },
  {
   "cell_type": "markdown",
   "id": "6b0a496f",
   "metadata": {},
   "source": []
  }
 ],
 "metadata": {
  "kernelspec": {
   "display_name": "Python 3",
   "language": "python",
   "name": "python3"
  },
  "language_info": {
   "codemirror_mode": {
    "name": "ipython",
    "version": 3
   },
   "file_extension": ".py",
   "mimetype": "text/x-python",
   "name": "python",
   "nbconvert_exporter": "python",
   "pygments_lexer": "ipython3",
   "version": "3.12.0"
  }
 },
 "nbformat": 4,
 "nbformat_minor": 5
}
