{
 "cells": [
  {
   "cell_type": "markdown",
   "id": "a713b198",
   "metadata": {},
   "source": [
    "### To Find the Second Largest Element in the Array : \n",
    "\n",
    "**Problem Description**\n",
    "\n",
    "Problem: Find the second largest element in an array.\n",
    "\n",
    "Input:\n",
    "An array of integers, e.g., [3, 7, 1, 9, 5]\n",
    "\n",
    "Output:\n",
    "The second largest element. For the example above, the output is 7."
   ]
  },
  {
   "cell_type": "markdown",
   "id": "ede09952",
   "metadata": {},
   "source": [
    "### First Approach :\n",
    "\n",
    "**Method:**\n",
    "\n",
    "- Sort the array once in descending order and pick the second distinct element."
   ]
  },
  {
   "cell_type": "code",
   "execution_count": 2,
   "id": "9729a402",
   "metadata": {},
   "outputs": [
    {
     "name": "stdout",
     "output_type": "stream",
     "text": [
      "Output : 6\n"
     ]
    }
   ],
   "source": [
    "def secondLargest(arr):\n",
    "    unique = list(set(arr))\n",
    "    if len(unique) < 2:\n",
    "        return None\n",
    "    unique.sort(reverse = True)\n",
    "    return unique[1]\n",
    "\n",
    "print(f'Output : {secondLargest([1,4,2,3,6,7,5])}')"
   ]
  },
  {
   "cell_type": "markdown",
   "id": "d4a6dfe1",
   "metadata": {},
   "source": [
    "- Time Complexity : O(n log n) -> due to sorting\n",
    "- Space Complexity : O(n) -> For creating set of elements"
   ]
  },
  {
   "cell_type": "markdown",
   "id": "3498d79f",
   "metadata": {},
   "source": [
    "### Second(Optimal) Approach:\n",
    "\n",
    "**Method:**\n",
    "\n",
    "- Traverse the array once, keeping track of the largest and second largest elements simultaneously.\n",
    "- This avoids sorting and extra space."
   ]
  },
  {
   "cell_type": "code",
   "execution_count": 3,
   "id": "e07c5da3",
   "metadata": {},
   "outputs": [
    {
     "name": "stdout",
     "output_type": "stream",
     "text": [
      "Output : 11\n"
     ]
    }
   ],
   "source": [
    "def secondLargestOptimal(arr):\n",
    "    if len(arr) < 2:\n",
    "        return None\n",
    "    first = second = float('-inf')\n",
    "\n",
    "    for num in arr:\n",
    "        if num > first:\n",
    "            second = first \n",
    "            first = num \n",
    "        if num > second and num != first:\n",
    "            second = num\n",
    "\n",
    "    return second\n",
    "\n",
    "print(f'Output : {secondLargestOptimal([1,4,2,3,6,5,8,9,11,13])}')\n"
   ]
  },
  {
   "cell_type": "code",
   "execution_count": null,
   "id": "8e680443",
   "metadata": {},
   "outputs": [],
   "source": []
  }
 ],
 "metadata": {
  "kernelspec": {
   "display_name": "Python 3",
   "language": "python",
   "name": "python3"
  },
  "language_info": {
   "codemirror_mode": {
    "name": "ipython",
    "version": 3
   },
   "file_extension": ".py",
   "mimetype": "text/x-python",
   "name": "python",
   "nbconvert_exporter": "python",
   "pygments_lexer": "ipython3",
   "version": "3.12.0"
  }
 },
 "nbformat": 4,
 "nbformat_minor": 5
}
