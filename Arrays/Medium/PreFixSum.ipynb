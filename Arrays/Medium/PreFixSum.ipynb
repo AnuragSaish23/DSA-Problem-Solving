{
 "cells": [
  {
   "cell_type": "markdown",
   "id": "932c5d1c",
   "metadata": {},
   "source": [
    "### Maxiumum Subarray (Kadane's Algorithm):\n",
    "\n",
    "Problem:\n",
    "Given an array of integers, find the contiguous subarray with the maximum sum.\n",
    "\n",
    "**Optimal Idea (Kadane’s):**\n",
    "\n",
    "- Keep track of current running sum.\n",
    "- If it becomes negative → reset to 0.\n",
    "- Keep updating the maximum seen so far."
   ]
  },
  {
   "cell_type": "code",
   "execution_count": 5,
   "id": "721e832c",
   "metadata": {},
   "outputs": [
    {
     "data": {
      "text/plain": [
       "6"
      ]
     },
     "execution_count": 5,
     "metadata": {},
     "output_type": "execute_result"
    }
   ],
   "source": [
    "def max_subarray(arr):\n",
    "    max_sum = arr[0]\n",
    "    curr_sum = 0\n",
    "\n",
    "    for num in arr:\n",
    "        curr_sum += num\n",
    "        max_sum = max(max_sum,curr_sum)\n",
    "\n",
    "        if curr_sum < 0:\n",
    "            curr_sum = 0\n",
    "\n",
    "    return max_sum\n",
    "\n",
    "max_subarray([-2,1,-3,4,-1,2,1,-5,4])"
   ]
  },
  {
   "cell_type": "code",
   "execution_count": null,
   "id": "d2b12087",
   "metadata": {},
   "outputs": [],
   "source": []
  },
  {
   "cell_type": "code",
   "execution_count": null,
   "id": "015df563",
   "metadata": {},
   "outputs": [],
   "source": []
  },
  {
   "cell_type": "markdown",
   "id": "3a93c5fc",
   "metadata": {},
   "source": []
  }
 ],
 "metadata": {
  "kernelspec": {
   "display_name": "Python 3",
   "language": "python",
   "name": "python3"
  },
  "language_info": {
   "codemirror_mode": {
    "name": "ipython",
    "version": 3
   },
   "file_extension": ".py",
   "mimetype": "text/x-python",
   "name": "python",
   "nbconvert_exporter": "python",
   "pygments_lexer": "ipython3",
   "version": "3.12.0"
  }
 },
 "nbformat": 4,
 "nbformat_minor": 5
}
