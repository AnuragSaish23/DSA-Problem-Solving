{
 "cells": [
  {
   "cell_type": "markdown",
   "id": "8df8e082",
   "metadata": {},
   "source": [
    "### Best Time To Buy Sell Stock :\n",
    "\n",
    "Problem Statement\n",
    "\n",
    "You are given an array prices where prices[i] is the price of a stock on the i-th day.\n",
    "You want to maximize your profit by choosing a single day to buy one stock and choosing a different day in the future to sell.\n",
    "\n",
    "Return the maximum profit you can achieve. If no profit is possible, return 0.\n",
    "\n",
    "**Optimal Approach (Kadane’s variant / Single Pass)**\n",
    "\n",
    "- Keep track of the minimum price so far (min_price).\n",
    "- At each day i, calculate profit = prices[i] - min_price.\n",
    "- Update the maximum profit seen so far.\n"
   ]
  },
  {
   "cell_type": "code",
   "execution_count": 1,
   "id": "7f3e1b88",
   "metadata": {},
   "outputs": [
    {
     "data": {
      "text/plain": [
       "5"
      ]
     },
     "execution_count": 1,
     "metadata": {},
     "output_type": "execute_result"
    }
   ],
   "source": [
    "def buysellstock(prices):\n",
    "    min_price = float('inf')\n",
    "    max_profit = 0\n",
    "\n",
    "    for price in prices:\n",
    "        if price < min_price:\n",
    "            min_price = price\n",
    "        profit = price - min_price\n",
    "\n",
    "        if max_profit < profit:\n",
    "            max_profit = profit\n",
    "\n",
    "    return max_profit\n",
    "\n",
    "buysellstock([7,1,5,3,6,4])"
   ]
  },
  {
   "cell_type": "code",
   "execution_count": null,
   "id": "d1f753f5",
   "metadata": {},
   "outputs": [],
   "source": []
  }
 ],
 "metadata": {
  "kernelspec": {
   "display_name": "Python 3",
   "language": "python",
   "name": "python3"
  },
  "language_info": {
   "codemirror_mode": {
    "name": "ipython",
    "version": 3
   },
   "file_extension": ".py",
   "mimetype": "text/x-python",
   "name": "python",
   "nbconvert_exporter": "python",
   "pygments_lexer": "ipython3",
   "version": "3.12.0"
  }
 },
 "nbformat": 4,
 "nbformat_minor": 5
}
