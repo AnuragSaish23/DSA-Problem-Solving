{
 "cells": [
  {
   "cell_type": "markdown",
   "id": "f52f506e",
   "metadata": {},
   "source": [
    "### Container with Most Water : \n",
    "\n",
    "**Problem Statement : **\n",
    "\n",
    "You are given an integer array height of length n. There are n vertical lines drawn such that the two endpoints of the ith line are (i, 0) and (i, height[i]).\n",
    "\n",
    "Find two lines that together with the x-axis form a container, such that the container contains the most water.\n",
    "Return the maximum amount of water a container can store.\n",
    "\n"
   ]
  },
  {
   "cell_type": "code",
   "execution_count": 1,
   "id": "7058f33e",
   "metadata": {},
   "outputs": [
    {
     "data": {
      "text/plain": [
       "49"
      ]
     },
     "execution_count": 1,
     "metadata": {},
     "output_type": "execute_result"
    }
   ],
   "source": [
    "def container(heights):\n",
    "    left, right = 0, len(heights) - 1\n",
    "    max_water = 0\n",
    "\n",
    "    while left < right:\n",
    "        width = right - left\n",
    "        h = min(heights[left],heights[right])\n",
    "\n",
    "        max_water = max(max_water, width*h)\n",
    "\n",
    "        if heights[left] < heights[right]:\n",
    "            left += 1\n",
    "        else:\n",
    "            right -= 1\n",
    "\n",
    "    return max_water\n",
    "\n",
    "container([1,8,6,2,5,4,8,3,7])\n"
   ]
  },
  {
   "cell_type": "code",
   "execution_count": null,
   "id": "2b798b28",
   "metadata": {},
   "outputs": [],
   "source": []
  }
 ],
 "metadata": {
  "kernelspec": {
   "display_name": "Python 3",
   "language": "python",
   "name": "python3"
  },
  "language_info": {
   "codemirror_mode": {
    "name": "ipython",
    "version": 3
   },
   "file_extension": ".py",
   "mimetype": "text/x-python",
   "name": "python",
   "nbconvert_exporter": "python",
   "pygments_lexer": "ipython3",
   "version": "3.12.0"
  }
 },
 "nbformat": 4,
 "nbformat_minor": 5
}
