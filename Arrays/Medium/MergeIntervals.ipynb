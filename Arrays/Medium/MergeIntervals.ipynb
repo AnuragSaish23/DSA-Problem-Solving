{
 "cells": [
  {
   "cell_type": "markdown",
   "id": "4173ac51",
   "metadata": {},
   "source": [
    "### Merge Intervals : \n",
    "\n",
    "**Problem Statement:**\n",
    "\n",
    "You are given an array of intervals where intervals[i] = [start_i, end_i].\n",
    "Merge all overlapping intervals and return an array of the non-overlapping intervals that cover all the intervals in the input."
   ]
  },
  {
   "cell_type": "code",
   "execution_count": 2,
   "id": "eae0d4d1",
   "metadata": {},
   "outputs": [
    {
     "data": {
      "text/plain": [
       "[[1, 6], [8, 10], [15, 18]]"
      ]
     },
     "execution_count": 2,
     "metadata": {},
     "output_type": "execute_result"
    }
   ],
   "source": [
    "def merge(intervals):\n",
    "    intervals.sort(key = lambda x : x[0])\n",
    "    merged = [intervals[0]]\n",
    "\n",
    "    for start, end in intervals[1:]:\n",
    "        lastEnd = merged[-1][1]\n",
    "\n",
    "        if start <= lastEnd:\n",
    "            merged[-1][1] = max(lastEnd, end)\n",
    "        else:\n",
    "            merged.append([start, end])\n",
    "\n",
    "    return merged\n",
    "\n",
    "merge([[1,3],[2,6],[8,10],[15,18]])"
   ]
  }
 ],
 "metadata": {
  "kernelspec": {
   "display_name": "Python 3",
   "language": "python",
   "name": "python3"
  },
  "language_info": {
   "codemirror_mode": {
    "name": "ipython",
    "version": 3
   },
   "file_extension": ".py",
   "mimetype": "text/x-python",
   "name": "python",
   "nbconvert_exporter": "python",
   "pygments_lexer": "ipython3",
   "version": "3.12.0"
  }
 },
 "nbformat": 4,
 "nbformat_minor": 5
}
