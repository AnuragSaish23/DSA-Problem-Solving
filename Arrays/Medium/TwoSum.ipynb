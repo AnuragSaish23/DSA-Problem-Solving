{
 "cells": [
  {
   "cell_type": "markdown",
   "id": "3924629b",
   "metadata": {},
   "source": [
    "### Two Sum Problem : \n",
    "\n",
    "Problem:\n",
    "\n",
    "Given an array of integers and a target, return the indices of two numbers such that they add up to the target.\n",
    "\n",
    "**Optimal Idea:**\n",
    "\n",
    "- Use a hash map (dictionary) to store numbers and their indices.\n",
    "- For each element, check if target - num is already in the map.\n",
    "- If yes → return the indices.\n",
    "- Runs in O(n) time.\n"
   ]
  },
  {
   "cell_type": "code",
   "execution_count": 1,
   "id": "57be1fd1",
   "metadata": {},
   "outputs": [
    {
     "data": {
      "text/plain": [
       "[0, 1]"
      ]
     },
     "execution_count": 1,
     "metadata": {},
     "output_type": "execute_result"
    }
   ],
   "source": [
    "def twoSum_Optimal(arr,target):\n",
    "    hashmap = {}\n",
    "    for i, num in enumerate(arr):\n",
    "        diff = target - num \n",
    "        if diff in hashmap:\n",
    "            return [hashmap[diff],i]\n",
    "        hashmap[num] = i\n",
    "    return []\n",
    "\n",
    "twoSum_Optimal([2,7,11,15],9)"
   ]
  },
  {
   "cell_type": "code",
   "execution_count": null,
   "id": "0a76c16b",
   "metadata": {},
   "outputs": [],
   "source": []
  }
 ],
 "metadata": {
  "kernelspec": {
   "display_name": "Python 3",
   "language": "python",
   "name": "python3"
  },
  "language_info": {
   "codemirror_mode": {
    "name": "ipython",
    "version": 3
   },
   "file_extension": ".py",
   "mimetype": "text/x-python",
   "name": "python",
   "nbconvert_exporter": "python",
   "pygments_lexer": "ipython3",
   "version": "3.12.0"
  }
 },
 "nbformat": 4,
 "nbformat_minor": 5
}
