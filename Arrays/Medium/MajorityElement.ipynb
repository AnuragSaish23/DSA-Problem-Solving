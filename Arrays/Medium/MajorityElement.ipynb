{
 "cells": [
  {
   "cell_type": "markdown",
   "id": "85a7d992",
   "metadata": {},
   "source": [
    "### Majority Element : \n",
    "\n",
    "Given an array nums of size n, find the majority element.\n",
    "The majority element is the element that appears more than ⌊n/2⌋ times.\n",
    "It is guaranteed that the majority element always exists.\n",
    "\n",
    "- Keep a candidate and a counter.\n",
    "- Iterate through the array:\n",
    "- If counter = 0 → pick current element as candidate.\n",
    "- If current element == candidate → increase counter.\n",
    "- Else → decrease counter.\n",
    "- At the end → candidate will be the majority element."
   ]
  },
  {
   "cell_type": "code",
   "execution_count": 1,
   "id": "b9299bfc",
   "metadata": {},
   "outputs": [
    {
     "data": {
      "text/plain": [
       "3"
      ]
     },
     "execution_count": 1,
     "metadata": {},
     "output_type": "execute_result"
    }
   ],
   "source": [
    "def majElement(arr):\n",
    "    candidate = None\n",
    "    count = 0\n",
    "\n",
    "    for num in arr:\n",
    "        if count == 0:\n",
    "            candidate = num\n",
    "        count += (1 if num == candidate else -1)\n",
    "    \n",
    "    return candidate\n",
    "\n",
    "majElement([3,3,4,2,3,3,3])"
   ]
  },
  {
   "cell_type": "code",
   "execution_count": null,
   "id": "1d6b8c2a",
   "metadata": {},
   "outputs": [],
   "source": []
  }
 ],
 "metadata": {
  "kernelspec": {
   "display_name": "Python 3",
   "language": "python",
   "name": "python3"
  },
  "language_info": {
   "codemirror_mode": {
    "name": "ipython",
    "version": 3
   },
   "file_extension": ".py",
   "mimetype": "text/x-python",
   "name": "python",
   "nbconvert_exporter": "python",
   "pygments_lexer": "ipython3",
   "version": "3.12.0"
  }
 },
 "nbformat": 4,
 "nbformat_minor": 5
}
