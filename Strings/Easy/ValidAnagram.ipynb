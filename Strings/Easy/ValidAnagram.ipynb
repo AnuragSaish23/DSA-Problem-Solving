{
 "cells": [
  {
   "cell_type": "markdown",
   "id": "3561d30c",
   "metadata": {},
   "source": [
    "### Valid Anagram:\n",
    "\n",
    "**Problem Description:**\n",
    "\n",
    "Given two strings s and t, return True if t is an anagram of s, and False otherwise. An anagram means both strings have the same characters with the same frequencies, just possibly in a different order."
   ]
  },
  {
   "cell_type": "code",
   "execution_count": 1,
   "id": "8653d58f",
   "metadata": {},
   "outputs": [
    {
     "data": {
      "text/plain": [
       "True"
      ]
     },
     "execution_count": 1,
     "metadata": {},
     "output_type": "execute_result"
    }
   ],
   "source": [
    "def validAnagram(s,t):\n",
    "    if len(s) != len(t):\n",
    "        return False\n",
    "    \n",
    "    counter = {}\n",
    "    for ch in s:\n",
    "        counter[ch] = counter.get(ch,0) + 1\n",
    "\n",
    "    for ch in t:\n",
    "        counter[ch] = counter.get(ch,0) - 1\n",
    "\n",
    "    for val in counter.values():\n",
    "        if val != 0:\n",
    "            return False\n",
    "        \n",
    "    return True\n",
    "\n",
    "validAnagram('aabb','abab')"
   ]
  },
  {
   "cell_type": "markdown",
   "id": "a1fe58ad",
   "metadata": {},
   "source": [
    "#### OR\n"
   ]
  },
  {
   "cell_type": "code",
   "execution_count": 2,
   "id": "791af78d",
   "metadata": {},
   "outputs": [
    {
     "data": {
      "text/plain": [
       "True"
      ]
     },
     "execution_count": 2,
     "metadata": {},
     "output_type": "execute_result"
    }
   ],
   "source": [
    "from collections import Counter\n",
    "\n",
    "def validAna(s,t):\n",
    "    return Counter(s) == Counter(t)\n",
    "\n",
    "validAna('aabb','abab')\n"
   ]
  },
  {
   "cell_type": "code",
   "execution_count": null,
   "id": "53b0a93f",
   "metadata": {},
   "outputs": [],
   "source": []
  }
 ],
 "metadata": {
  "kernelspec": {
   "display_name": "Python 3",
   "language": "python",
   "name": "python3"
  },
  "language_info": {
   "codemirror_mode": {
    "name": "ipython",
    "version": 3
   },
   "file_extension": ".py",
   "mimetype": "text/x-python",
   "name": "python",
   "nbconvert_exporter": "python",
   "pygments_lexer": "ipython3",
   "version": "3.12.0"
  }
 },
 "nbformat": 4,
 "nbformat_minor": 5
}
